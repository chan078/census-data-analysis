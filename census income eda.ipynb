{
 "cells": [
  {
   "cell_type": "code",
   "execution_count": 2,
   "id": "431325de-3069-4b4b-9d26-cc673d9ca198",
   "metadata": {
    "tags": []
   },
   "outputs": [],
   "source": [
    "import pandas as pd\n",
    "import seaborn as sns\n",
    "from matplotlib import pyplot as plt"
   ]
  },
  {
   "cell_type": "code",
   "execution_count": 3,
   "id": "5ee74225-32d0-4b5a-a8f5-d7eac92560fc",
   "metadata": {
    "tags": []
   },
   "outputs": [],
   "source": [
    "df = pd.read_csv(r'C:\\Users\\Fatman\\Documents\\adult.data.csv')"
   ]
  },
  {
   "cell_type": "code",
   "execution_count": 4,
   "id": "b37e45e0-6526-4d48-9ed3-405a757c3a3e",
   "metadata": {
    "tags": []
   },
   "outputs": [
    {
     "data": {
      "text/html": [
       "<div>\n",
       "<style scoped>\n",
       "    .dataframe tbody tr th:only-of-type {\n",
       "        vertical-align: middle;\n",
       "    }\n",
       "\n",
       "    .dataframe tbody tr th {\n",
       "        vertical-align: top;\n",
       "    }\n",
       "\n",
       "    .dataframe thead th {\n",
       "        text-align: right;\n",
       "    }\n",
       "</style>\n",
       "<table border=\"1\" class=\"dataframe\">\n",
       "  <thead>\n",
       "    <tr style=\"text-align: right;\">\n",
       "      <th></th>\n",
       "      <th>age</th>\n",
       "      <th>workclass</th>\n",
       "      <th>fnlwgt</th>\n",
       "      <th>education</th>\n",
       "      <th>education-num</th>\n",
       "      <th>marital-status</th>\n",
       "      <th>occupation</th>\n",
       "      <th>relationship</th>\n",
       "      <th>race</th>\n",
       "      <th>sex</th>\n",
       "      <th>capital-gain</th>\n",
       "      <th>capital-loss</th>\n",
       "      <th>hours-per-week</th>\n",
       "      <th>native-country</th>\n",
       "      <th>salary</th>\n",
       "    </tr>\n",
       "  </thead>\n",
       "  <tbody>\n",
       "    <tr>\n",
       "      <th>0</th>\n",
       "      <td>39</td>\n",
       "      <td>State-gov</td>\n",
       "      <td>77516</td>\n",
       "      <td>Bachelors</td>\n",
       "      <td>13</td>\n",
       "      <td>Never-married</td>\n",
       "      <td>Adm-clerical</td>\n",
       "      <td>Not-in-family</td>\n",
       "      <td>White</td>\n",
       "      <td>Male</td>\n",
       "      <td>2174</td>\n",
       "      <td>0</td>\n",
       "      <td>40</td>\n",
       "      <td>United-States</td>\n",
       "      <td>&lt;=50K</td>\n",
       "    </tr>\n",
       "    <tr>\n",
       "      <th>1</th>\n",
       "      <td>50</td>\n",
       "      <td>Self-emp-not-inc</td>\n",
       "      <td>83311</td>\n",
       "      <td>Bachelors</td>\n",
       "      <td>13</td>\n",
       "      <td>Married-civ-spouse</td>\n",
       "      <td>Exec-managerial</td>\n",
       "      <td>Husband</td>\n",
       "      <td>White</td>\n",
       "      <td>Male</td>\n",
       "      <td>0</td>\n",
       "      <td>0</td>\n",
       "      <td>13</td>\n",
       "      <td>United-States</td>\n",
       "      <td>&lt;=50K</td>\n",
       "    </tr>\n",
       "    <tr>\n",
       "      <th>2</th>\n",
       "      <td>38</td>\n",
       "      <td>Private</td>\n",
       "      <td>215646</td>\n",
       "      <td>HS-grad</td>\n",
       "      <td>9</td>\n",
       "      <td>Divorced</td>\n",
       "      <td>Handlers-cleaners</td>\n",
       "      <td>Not-in-family</td>\n",
       "      <td>White</td>\n",
       "      <td>Male</td>\n",
       "      <td>0</td>\n",
       "      <td>0</td>\n",
       "      <td>40</td>\n",
       "      <td>United-States</td>\n",
       "      <td>&lt;=50K</td>\n",
       "    </tr>\n",
       "    <tr>\n",
       "      <th>3</th>\n",
       "      <td>53</td>\n",
       "      <td>Private</td>\n",
       "      <td>234721</td>\n",
       "      <td>11th</td>\n",
       "      <td>7</td>\n",
       "      <td>Married-civ-spouse</td>\n",
       "      <td>Handlers-cleaners</td>\n",
       "      <td>Husband</td>\n",
       "      <td>Black</td>\n",
       "      <td>Male</td>\n",
       "      <td>0</td>\n",
       "      <td>0</td>\n",
       "      <td>40</td>\n",
       "      <td>United-States</td>\n",
       "      <td>&lt;=50K</td>\n",
       "    </tr>\n",
       "    <tr>\n",
       "      <th>4</th>\n",
       "      <td>28</td>\n",
       "      <td>Private</td>\n",
       "      <td>338409</td>\n",
       "      <td>Bachelors</td>\n",
       "      <td>13</td>\n",
       "      <td>Married-civ-spouse</td>\n",
       "      <td>Prof-specialty</td>\n",
       "      <td>Wife</td>\n",
       "      <td>Black</td>\n",
       "      <td>Female</td>\n",
       "      <td>0</td>\n",
       "      <td>0</td>\n",
       "      <td>40</td>\n",
       "      <td>Cuba</td>\n",
       "      <td>&lt;=50K</td>\n",
       "    </tr>\n",
       "    <tr>\n",
       "      <th>...</th>\n",
       "      <td>...</td>\n",
       "      <td>...</td>\n",
       "      <td>...</td>\n",
       "      <td>...</td>\n",
       "      <td>...</td>\n",
       "      <td>...</td>\n",
       "      <td>...</td>\n",
       "      <td>...</td>\n",
       "      <td>...</td>\n",
       "      <td>...</td>\n",
       "      <td>...</td>\n",
       "      <td>...</td>\n",
       "      <td>...</td>\n",
       "      <td>...</td>\n",
       "      <td>...</td>\n",
       "    </tr>\n",
       "    <tr>\n",
       "      <th>32556</th>\n",
       "      <td>27</td>\n",
       "      <td>Private</td>\n",
       "      <td>257302</td>\n",
       "      <td>Assoc-acdm</td>\n",
       "      <td>12</td>\n",
       "      <td>Married-civ-spouse</td>\n",
       "      <td>Tech-support</td>\n",
       "      <td>Wife</td>\n",
       "      <td>White</td>\n",
       "      <td>Female</td>\n",
       "      <td>0</td>\n",
       "      <td>0</td>\n",
       "      <td>38</td>\n",
       "      <td>United-States</td>\n",
       "      <td>&lt;=50K</td>\n",
       "    </tr>\n",
       "    <tr>\n",
       "      <th>32557</th>\n",
       "      <td>40</td>\n",
       "      <td>Private</td>\n",
       "      <td>154374</td>\n",
       "      <td>HS-grad</td>\n",
       "      <td>9</td>\n",
       "      <td>Married-civ-spouse</td>\n",
       "      <td>Machine-op-inspct</td>\n",
       "      <td>Husband</td>\n",
       "      <td>White</td>\n",
       "      <td>Male</td>\n",
       "      <td>0</td>\n",
       "      <td>0</td>\n",
       "      <td>40</td>\n",
       "      <td>United-States</td>\n",
       "      <td>&gt;50K</td>\n",
       "    </tr>\n",
       "    <tr>\n",
       "      <th>32558</th>\n",
       "      <td>58</td>\n",
       "      <td>Private</td>\n",
       "      <td>151910</td>\n",
       "      <td>HS-grad</td>\n",
       "      <td>9</td>\n",
       "      <td>Widowed</td>\n",
       "      <td>Adm-clerical</td>\n",
       "      <td>Unmarried</td>\n",
       "      <td>White</td>\n",
       "      <td>Female</td>\n",
       "      <td>0</td>\n",
       "      <td>0</td>\n",
       "      <td>40</td>\n",
       "      <td>United-States</td>\n",
       "      <td>&lt;=50K</td>\n",
       "    </tr>\n",
       "    <tr>\n",
       "      <th>32559</th>\n",
       "      <td>22</td>\n",
       "      <td>Private</td>\n",
       "      <td>201490</td>\n",
       "      <td>HS-grad</td>\n",
       "      <td>9</td>\n",
       "      <td>Never-married</td>\n",
       "      <td>Adm-clerical</td>\n",
       "      <td>Own-child</td>\n",
       "      <td>White</td>\n",
       "      <td>Male</td>\n",
       "      <td>0</td>\n",
       "      <td>0</td>\n",
       "      <td>20</td>\n",
       "      <td>United-States</td>\n",
       "      <td>&lt;=50K</td>\n",
       "    </tr>\n",
       "    <tr>\n",
       "      <th>32560</th>\n",
       "      <td>52</td>\n",
       "      <td>Self-emp-inc</td>\n",
       "      <td>287927</td>\n",
       "      <td>HS-grad</td>\n",
       "      <td>9</td>\n",
       "      <td>Married-civ-spouse</td>\n",
       "      <td>Exec-managerial</td>\n",
       "      <td>Wife</td>\n",
       "      <td>White</td>\n",
       "      <td>Female</td>\n",
       "      <td>15024</td>\n",
       "      <td>0</td>\n",
       "      <td>40</td>\n",
       "      <td>United-States</td>\n",
       "      <td>&gt;50K</td>\n",
       "    </tr>\n",
       "  </tbody>\n",
       "</table>\n",
       "<p>32561 rows × 15 columns</p>\n",
       "</div>"
      ],
      "text/plain": [
       "       age         workclass  fnlwgt   education  education-num  \\\n",
       "0       39         State-gov   77516   Bachelors             13   \n",
       "1       50  Self-emp-not-inc   83311   Bachelors             13   \n",
       "2       38           Private  215646     HS-grad              9   \n",
       "3       53           Private  234721        11th              7   \n",
       "4       28           Private  338409   Bachelors             13   \n",
       "...    ...               ...     ...         ...            ...   \n",
       "32556   27           Private  257302  Assoc-acdm             12   \n",
       "32557   40           Private  154374     HS-grad              9   \n",
       "32558   58           Private  151910     HS-grad              9   \n",
       "32559   22           Private  201490     HS-grad              9   \n",
       "32560   52      Self-emp-inc  287927     HS-grad              9   \n",
       "\n",
       "           marital-status         occupation   relationship   race     sex  \\\n",
       "0           Never-married       Adm-clerical  Not-in-family  White    Male   \n",
       "1      Married-civ-spouse    Exec-managerial        Husband  White    Male   \n",
       "2                Divorced  Handlers-cleaners  Not-in-family  White    Male   \n",
       "3      Married-civ-spouse  Handlers-cleaners        Husband  Black    Male   \n",
       "4      Married-civ-spouse     Prof-specialty           Wife  Black  Female   \n",
       "...                   ...                ...            ...    ...     ...   \n",
       "32556  Married-civ-spouse       Tech-support           Wife  White  Female   \n",
       "32557  Married-civ-spouse  Machine-op-inspct        Husband  White    Male   \n",
       "32558             Widowed       Adm-clerical      Unmarried  White  Female   \n",
       "32559       Never-married       Adm-clerical      Own-child  White    Male   \n",
       "32560  Married-civ-spouse    Exec-managerial           Wife  White  Female   \n",
       "\n",
       "       capital-gain  capital-loss  hours-per-week native-country salary  \n",
       "0              2174             0              40  United-States  <=50K  \n",
       "1                 0             0              13  United-States  <=50K  \n",
       "2                 0             0              40  United-States  <=50K  \n",
       "3                 0             0              40  United-States  <=50K  \n",
       "4                 0             0              40           Cuba  <=50K  \n",
       "...             ...           ...             ...            ...    ...  \n",
       "32556             0             0              38  United-States  <=50K  \n",
       "32557             0             0              40  United-States   >50K  \n",
       "32558             0             0              40  United-States  <=50K  \n",
       "32559             0             0              20  United-States  <=50K  \n",
       "32560         15024             0              40  United-States   >50K  \n",
       "\n",
       "[32561 rows x 15 columns]"
      ]
     },
     "execution_count": 4,
     "metadata": {},
     "output_type": "execute_result"
    }
   ],
   "source": [
    "df"
   ]
  },
  {
   "cell_type": "code",
   "execution_count": 5,
   "id": "8160ebf6-0148-4f0f-bae7-24d341133f1a",
   "metadata": {
    "tags": []
   },
   "outputs": [
    {
     "data": {
      "text/plain": [
       "(32561, 15)"
      ]
     },
     "execution_count": 5,
     "metadata": {},
     "output_type": "execute_result"
    }
   ],
   "source": [
    "df.shape"
   ]
  },
  {
   "cell_type": "code",
   "execution_count": 6,
   "id": "c81de4d5-e730-4835-ac6e-544bbf368be6",
   "metadata": {
    "tags": []
   },
   "outputs": [
    {
     "name": "stdout",
     "output_type": "stream",
     "text": [
      "<class 'pandas.core.frame.DataFrame'>\n",
      "RangeIndex: 32561 entries, 0 to 32560\n",
      "Data columns (total 15 columns):\n",
      " #   Column          Non-Null Count  Dtype \n",
      "---  ------          --------------  ----- \n",
      " 0   age             32561 non-null  int64 \n",
      " 1   workclass       32561 non-null  object\n",
      " 2   fnlwgt          32561 non-null  int64 \n",
      " 3   education       32561 non-null  object\n",
      " 4   education-num   32561 non-null  int64 \n",
      " 5   marital-status  32561 non-null  object\n",
      " 6   occupation      32561 non-null  object\n",
      " 7   relationship    32561 non-null  object\n",
      " 8   race            32561 non-null  object\n",
      " 9   sex             32561 non-null  object\n",
      " 10  capital-gain    32561 non-null  int64 \n",
      " 11  capital-loss    32561 non-null  int64 \n",
      " 12  hours-per-week  32561 non-null  int64 \n",
      " 13  native-country  32561 non-null  object\n",
      " 14  salary          32561 non-null  object\n",
      "dtypes: int64(6), object(9)\n",
      "memory usage: 3.7+ MB\n"
     ]
    }
   ],
   "source": [
    "df.info()"
   ]
  },
  {
   "cell_type": "code",
   "execution_count": 7,
   "id": "181eb65c-9430-4d83-b975-d1fc0c559947",
   "metadata": {
    "tags": []
   },
   "outputs": [
    {
     "data": {
      "text/html": [
       "<div>\n",
       "<style scoped>\n",
       "    .dataframe tbody tr th:only-of-type {\n",
       "        vertical-align: middle;\n",
       "    }\n",
       "\n",
       "    .dataframe tbody tr th {\n",
       "        vertical-align: top;\n",
       "    }\n",
       "\n",
       "    .dataframe thead th {\n",
       "        text-align: right;\n",
       "    }\n",
       "</style>\n",
       "<table border=\"1\" class=\"dataframe\">\n",
       "  <thead>\n",
       "    <tr style=\"text-align: right;\">\n",
       "      <th></th>\n",
       "      <th>age</th>\n",
       "      <th>fnlwgt</th>\n",
       "      <th>education-num</th>\n",
       "      <th>capital-gain</th>\n",
       "      <th>capital-loss</th>\n",
       "      <th>hours-per-week</th>\n",
       "    </tr>\n",
       "  </thead>\n",
       "  <tbody>\n",
       "    <tr>\n",
       "      <th>count</th>\n",
       "      <td>32561.000000</td>\n",
       "      <td>3.256100e+04</td>\n",
       "      <td>32561.000000</td>\n",
       "      <td>32561.000000</td>\n",
       "      <td>32561.000000</td>\n",
       "      <td>32561.000000</td>\n",
       "    </tr>\n",
       "    <tr>\n",
       "      <th>mean</th>\n",
       "      <td>38.581647</td>\n",
       "      <td>1.897784e+05</td>\n",
       "      <td>10.080679</td>\n",
       "      <td>1077.648844</td>\n",
       "      <td>87.303830</td>\n",
       "      <td>40.437456</td>\n",
       "    </tr>\n",
       "    <tr>\n",
       "      <th>std</th>\n",
       "      <td>13.640433</td>\n",
       "      <td>1.055500e+05</td>\n",
       "      <td>2.572720</td>\n",
       "      <td>7385.292085</td>\n",
       "      <td>402.960219</td>\n",
       "      <td>12.347429</td>\n",
       "    </tr>\n",
       "    <tr>\n",
       "      <th>min</th>\n",
       "      <td>17.000000</td>\n",
       "      <td>1.228500e+04</td>\n",
       "      <td>1.000000</td>\n",
       "      <td>0.000000</td>\n",
       "      <td>0.000000</td>\n",
       "      <td>1.000000</td>\n",
       "    </tr>\n",
       "    <tr>\n",
       "      <th>25%</th>\n",
       "      <td>28.000000</td>\n",
       "      <td>1.178270e+05</td>\n",
       "      <td>9.000000</td>\n",
       "      <td>0.000000</td>\n",
       "      <td>0.000000</td>\n",
       "      <td>40.000000</td>\n",
       "    </tr>\n",
       "    <tr>\n",
       "      <th>50%</th>\n",
       "      <td>37.000000</td>\n",
       "      <td>1.783560e+05</td>\n",
       "      <td>10.000000</td>\n",
       "      <td>0.000000</td>\n",
       "      <td>0.000000</td>\n",
       "      <td>40.000000</td>\n",
       "    </tr>\n",
       "    <tr>\n",
       "      <th>75%</th>\n",
       "      <td>48.000000</td>\n",
       "      <td>2.370510e+05</td>\n",
       "      <td>12.000000</td>\n",
       "      <td>0.000000</td>\n",
       "      <td>0.000000</td>\n",
       "      <td>45.000000</td>\n",
       "    </tr>\n",
       "    <tr>\n",
       "      <th>max</th>\n",
       "      <td>90.000000</td>\n",
       "      <td>1.484705e+06</td>\n",
       "      <td>16.000000</td>\n",
       "      <td>99999.000000</td>\n",
       "      <td>4356.000000</td>\n",
       "      <td>99.000000</td>\n",
       "    </tr>\n",
       "  </tbody>\n",
       "</table>\n",
       "</div>"
      ],
      "text/plain": [
       "                age        fnlwgt  education-num  capital-gain  capital-loss  \\\n",
       "count  32561.000000  3.256100e+04   32561.000000  32561.000000  32561.000000   \n",
       "mean      38.581647  1.897784e+05      10.080679   1077.648844     87.303830   \n",
       "std       13.640433  1.055500e+05       2.572720   7385.292085    402.960219   \n",
       "min       17.000000  1.228500e+04       1.000000      0.000000      0.000000   \n",
       "25%       28.000000  1.178270e+05       9.000000      0.000000      0.000000   \n",
       "50%       37.000000  1.783560e+05      10.000000      0.000000      0.000000   \n",
       "75%       48.000000  2.370510e+05      12.000000      0.000000      0.000000   \n",
       "max       90.000000  1.484705e+06      16.000000  99999.000000   4356.000000   \n",
       "\n",
       "       hours-per-week  \n",
       "count    32561.000000  \n",
       "mean        40.437456  \n",
       "std         12.347429  \n",
       "min          1.000000  \n",
       "25%         40.000000  \n",
       "50%         40.000000  \n",
       "75%         45.000000  \n",
       "max         99.000000  "
      ]
     },
     "execution_count": 7,
     "metadata": {},
     "output_type": "execute_result"
    }
   ],
   "source": [
    "df.describe()"
   ]
  },
  {
   "cell_type": "raw",
   "id": "2c01800d-f6ca-4c76-acbd-6930e842c4ad",
   "metadata": {},
   "source": []
  },
  {
   "cell_type": "raw",
   "id": "0d5b3319-24e4-4adb-8246-f3813d86f35c",
   "metadata": {},
   "source": [
    "1. How many men and women (sex feature) are represented in this dataset?"
   ]
  },
  {
   "cell_type": "code",
   "execution_count": 8,
   "id": "22b19132-9646-4cbc-b83c-7ae7f615c10e",
   "metadata": {
    "tags": []
   },
   "outputs": [
    {
     "data": {
      "text/plain": [
       "sex\n",
       "Male      21790\n",
       "Female    10771\n",
       "Name: count, dtype: int64"
      ]
     },
     "execution_count": 8,
     "metadata": {},
     "output_type": "execute_result"
    }
   ],
   "source": [
    "df['sex'].value_counts()"
   ]
  },
  {
   "cell_type": "raw",
   "id": "3d3420e7-ae31-40db-803e-9882adb9193e",
   "metadata": {},
   "source": []
  },
  {
   "cell_type": "raw",
   "id": "5f74a0e4-cde1-41d0-878a-b3a78b3bf67a",
   "metadata": {},
   "source": [
    "2. What is the average age (age feature) of women?"
   ]
  },
  {
   "cell_type": "code",
   "execution_count": 9,
   "id": "b36ecc8e-0a94-4786-9c5e-f271db562424",
   "metadata": {
    "tags": []
   },
   "outputs": [
    {
     "name": "stdout",
     "output_type": "stream",
     "text": [
      "The average age of women is 37.\n"
     ]
    }
   ],
   "source": [
    "filt = (df['sex'] == 'Female')\n",
    "avg_a_f = df.loc[filt, 'age'].mean()\n",
    "print(f\"The average age of women is {round(avg_a_f)}.\")"
   ]
  },
  {
   "cell_type": "raw",
   "id": "df8bf119-30dd-4e8f-b88a-869da8fd8076",
   "metadata": {},
   "source": []
  },
  {
   "cell_type": "raw",
   "id": "9fc9c702-bed9-476c-8f5e-564af31fa1f5",
   "metadata": {},
   "source": [
    "3. What is the percentage of German citizens (native-country feature)?"
   ]
  },
  {
   "cell_type": "code",
   "execution_count": 10,
   "id": "2ca2e14d-1d87-42b3-aac5-ef36b24c3fee",
   "metadata": {
    "tags": []
   },
   "outputs": [
    {
     "name": "stdout",
     "output_type": "stream",
     "text": [
      "The percentage of German citizens is 0.004207487485028101.\n"
     ]
    }
   ],
   "source": [
    "filt = df['native-country'] == 'Germany'\n",
    "p_of_g = df.loc[filt, 'native-country'].count() / df.shape[0]\n",
    "print(f\"The percentage of German citizens is {p_of_g}.\")"
   ]
  },
  {
   "cell_type": "raw",
   "id": "c7591cad-9cea-44ff-9459-d11961833b88",
   "metadata": {},
   "source": []
  },
  {
   "cell_type": "raw",
   "id": "73552ea1-9988-4474-b11b-8dcd28946c91",
   "metadata": {},
   "source": [
    "4-5. What are mean value and standard deviation of the age of those who receive more than 50K per year (salary feature) and those who receive less than 50K per year?"
   ]
  },
  {
   "cell_type": "code",
   "execution_count": 11,
   "id": "af5122ec-fa35-4f6d-b950-0baab86184ff",
   "metadata": {
    "tags": []
   },
   "outputs": [
    {
     "name": "stdout",
     "output_type": "stream",
     "text": [
      "The mean value and standard deviation of the age of those who receive more than 50K per year(rich) is 44 and 11.\n",
      "The mean value and standard deviation of the age of those who receive less than 50K per year(poor) is 37 and 14.\n"
     ]
    }
   ],
   "source": [
    "# Approach 1:\n",
    "\n",
    "s1 = df.loc[df['salary'] == '>50K', 'age']\n",
    "s2 = df.loc[df['salary'] == '<=50K', 'age']\n",
    "print(f\"The mean value and standard deviation of the age of those who receive more than 50K per year(rich) is {round(s1.mean())} and {round(s1.std())}.\")\n",
    "print(f\"The mean value and standard deviation of the age of those who receive less than 50K per year(poor) is {round(s2.mean())} and {round(s2.std())}.\")"
   ]
  },
  {
   "cell_type": "code",
   "execution_count": 12,
   "id": "c55e2c75-c233-4e5f-9462-ced8cfa94327",
   "metadata": {
    "tags": []
   },
   "outputs": [
    {
     "data": {
      "text/html": [
       "<div>\n",
       "<style scoped>\n",
       "    .dataframe tbody tr th:only-of-type {\n",
       "        vertical-align: middle;\n",
       "    }\n",
       "\n",
       "    .dataframe tbody tr th {\n",
       "        vertical-align: top;\n",
       "    }\n",
       "\n",
       "    .dataframe thead th {\n",
       "        text-align: right;\n",
       "    }\n",
       "</style>\n",
       "<table border=\"1\" class=\"dataframe\">\n",
       "  <thead>\n",
       "    <tr style=\"text-align: right;\">\n",
       "      <th></th>\n",
       "      <th>mean</th>\n",
       "      <th>std</th>\n",
       "    </tr>\n",
       "    <tr>\n",
       "      <th>salary</th>\n",
       "      <th></th>\n",
       "      <th></th>\n",
       "    </tr>\n",
       "  </thead>\n",
       "  <tbody>\n",
       "    <tr>\n",
       "      <th>&lt;=50K</th>\n",
       "      <td>36.783738</td>\n",
       "      <td>14.020088</td>\n",
       "    </tr>\n",
       "    <tr>\n",
       "      <th>&gt;50K</th>\n",
       "      <td>44.249841</td>\n",
       "      <td>10.519028</td>\n",
       "    </tr>\n",
       "  </tbody>\n",
       "</table>\n",
       "</div>"
      ],
      "text/plain": [
       "             mean        std\n",
       "salary                      \n",
       "<=50K   36.783738  14.020088\n",
       ">50K    44.249841  10.519028"
      ]
     },
     "execution_count": 12,
     "metadata": {},
     "output_type": "execute_result"
    }
   ],
   "source": [
    "# Approach 2:\n",
    "\n",
    "sal_group = df.groupby('salary')[ 'age'].agg(['mean', 'std'])\n",
    "sal_group"
   ]
  },
  {
   "cell_type": "raw",
   "id": "b58aa58b-c3d7-4d85-9ac8-769dbd276845",
   "metadata": {},
   "source": []
  },
  {
   "cell_type": "raw",
   "id": "bb88b12c-5d26-492e-9f0e-416f336706e0",
   "metadata": {},
   "source": [
    "6. Is it true that people who earn more than 50K have at least high school education? (education – Bachelors, Prof-school, Assoc-acdm, Assoc-voc, Masters or Doctorate feature)"
   ]
  },
  {
   "cell_type": "code",
   "execution_count": 13,
   "id": "20eb8a15-a796-48ab-b679-cdbd9deec29d",
   "metadata": {
    "tags": []
   },
   "outputs": [
    {
     "name": "stdout",
     "output_type": "stream",
     "text": [
      "['HS-grad' 'Masters' 'Bachelors' 'Some-college' 'Assoc-voc' 'Doctorate'\n",
      " 'Prof-school' 'Assoc-acdm' '7th-8th' '12th' '10th' '11th' '9th' '5th-6th'\n",
      " '1st-4th']\n",
      "\n",
      "No, it's not true that people who earn more than 50K have at least high school education.\n"
     ]
    }
   ],
   "source": [
    "filt = (df['salary'] == '>50K')\n",
    "print(df.loc[filt, 'education'].unique())\n",
    "print(\"\\nNo, it's not true that people who earn more than 50K have at least high school education.\")"
   ]
  },
  {
   "cell_type": "raw",
   "id": "9f1806c9-0236-4008-8859-9686d8969822",
   "metadata": {},
   "source": []
  },
  {
   "cell_type": "raw",
   "id": "de9bda4b-31bc-4200-8f12-2be0ee2de8ff",
   "metadata": {},
   "source": [
    "7. Display age statistics for each race (race feature) and each gender (sex feature). Use groupby() and describe(). Find the maximum age of men of Amer-Indian-Eskimo race."
   ]
  },
  {
   "cell_type": "code",
   "execution_count": 14,
   "id": "f9663779-ed0f-4920-b132-52142e15db7e",
   "metadata": {
    "tags": []
   },
   "outputs": [
    {
     "data": {
      "text/html": [
       "<div>\n",
       "<style scoped>\n",
       "    .dataframe tbody tr th:only-of-type {\n",
       "        vertical-align: middle;\n",
       "    }\n",
       "\n",
       "    .dataframe tbody tr th {\n",
       "        vertical-align: top;\n",
       "    }\n",
       "\n",
       "    .dataframe thead th {\n",
       "        text-align: right;\n",
       "    }\n",
       "</style>\n",
       "<table border=\"1\" class=\"dataframe\">\n",
       "  <thead>\n",
       "    <tr style=\"text-align: right;\">\n",
       "      <th></th>\n",
       "      <th></th>\n",
       "      <th>count</th>\n",
       "      <th>mean</th>\n",
       "      <th>std</th>\n",
       "      <th>min</th>\n",
       "      <th>25%</th>\n",
       "      <th>50%</th>\n",
       "      <th>75%</th>\n",
       "      <th>max</th>\n",
       "    </tr>\n",
       "    <tr>\n",
       "      <th>race</th>\n",
       "      <th>sex</th>\n",
       "      <th></th>\n",
       "      <th></th>\n",
       "      <th></th>\n",
       "      <th></th>\n",
       "      <th></th>\n",
       "      <th></th>\n",
       "      <th></th>\n",
       "      <th></th>\n",
       "    </tr>\n",
       "  </thead>\n",
       "  <tbody>\n",
       "    <tr>\n",
       "      <th rowspan=\"2\" valign=\"top\">Amer-Indian-Eskimo</th>\n",
       "      <th>Female</th>\n",
       "      <td>119.0</td>\n",
       "      <td>37.117647</td>\n",
       "      <td>13.114991</td>\n",
       "      <td>17.0</td>\n",
       "      <td>27.0</td>\n",
       "      <td>36.0</td>\n",
       "      <td>46.00</td>\n",
       "      <td>80.0</td>\n",
       "    </tr>\n",
       "    <tr>\n",
       "      <th>Male</th>\n",
       "      <td>192.0</td>\n",
       "      <td>37.208333</td>\n",
       "      <td>12.049563</td>\n",
       "      <td>17.0</td>\n",
       "      <td>28.0</td>\n",
       "      <td>35.0</td>\n",
       "      <td>45.00</td>\n",
       "      <td>82.0</td>\n",
       "    </tr>\n",
       "    <tr>\n",
       "      <th rowspan=\"2\" valign=\"top\">Asian-Pac-Islander</th>\n",
       "      <th>Female</th>\n",
       "      <td>346.0</td>\n",
       "      <td>35.089595</td>\n",
       "      <td>12.300845</td>\n",
       "      <td>17.0</td>\n",
       "      <td>25.0</td>\n",
       "      <td>33.0</td>\n",
       "      <td>43.75</td>\n",
       "      <td>75.0</td>\n",
       "    </tr>\n",
       "    <tr>\n",
       "      <th>Male</th>\n",
       "      <td>693.0</td>\n",
       "      <td>39.073593</td>\n",
       "      <td>12.883944</td>\n",
       "      <td>18.0</td>\n",
       "      <td>29.0</td>\n",
       "      <td>37.0</td>\n",
       "      <td>46.00</td>\n",
       "      <td>90.0</td>\n",
       "    </tr>\n",
       "    <tr>\n",
       "      <th rowspan=\"2\" valign=\"top\">Black</th>\n",
       "      <th>Female</th>\n",
       "      <td>1555.0</td>\n",
       "      <td>37.854019</td>\n",
       "      <td>12.637197</td>\n",
       "      <td>17.0</td>\n",
       "      <td>28.0</td>\n",
       "      <td>37.0</td>\n",
       "      <td>46.00</td>\n",
       "      <td>90.0</td>\n",
       "    </tr>\n",
       "    <tr>\n",
       "      <th>Male</th>\n",
       "      <td>1569.0</td>\n",
       "      <td>37.682600</td>\n",
       "      <td>12.882612</td>\n",
       "      <td>17.0</td>\n",
       "      <td>27.0</td>\n",
       "      <td>36.0</td>\n",
       "      <td>46.00</td>\n",
       "      <td>90.0</td>\n",
       "    </tr>\n",
       "    <tr>\n",
       "      <th rowspan=\"2\" valign=\"top\">Other</th>\n",
       "      <th>Female</th>\n",
       "      <td>109.0</td>\n",
       "      <td>31.678899</td>\n",
       "      <td>11.631599</td>\n",
       "      <td>17.0</td>\n",
       "      <td>23.0</td>\n",
       "      <td>29.0</td>\n",
       "      <td>39.00</td>\n",
       "      <td>74.0</td>\n",
       "    </tr>\n",
       "    <tr>\n",
       "      <th>Male</th>\n",
       "      <td>162.0</td>\n",
       "      <td>34.654321</td>\n",
       "      <td>11.355531</td>\n",
       "      <td>17.0</td>\n",
       "      <td>26.0</td>\n",
       "      <td>32.0</td>\n",
       "      <td>42.00</td>\n",
       "      <td>77.0</td>\n",
       "    </tr>\n",
       "    <tr>\n",
       "      <th rowspan=\"2\" valign=\"top\">White</th>\n",
       "      <th>Female</th>\n",
       "      <td>8642.0</td>\n",
       "      <td>36.811618</td>\n",
       "      <td>14.329093</td>\n",
       "      <td>17.0</td>\n",
       "      <td>25.0</td>\n",
       "      <td>35.0</td>\n",
       "      <td>46.00</td>\n",
       "      <td>90.0</td>\n",
       "    </tr>\n",
       "    <tr>\n",
       "      <th>Male</th>\n",
       "      <td>19174.0</td>\n",
       "      <td>39.652498</td>\n",
       "      <td>13.436029</td>\n",
       "      <td>17.0</td>\n",
       "      <td>29.0</td>\n",
       "      <td>38.0</td>\n",
       "      <td>49.00</td>\n",
       "      <td>90.0</td>\n",
       "    </tr>\n",
       "  </tbody>\n",
       "</table>\n",
       "</div>"
      ],
      "text/plain": [
       "                             count       mean        std   min   25%   50%  \\\n",
       "race               sex                                                       \n",
       "Amer-Indian-Eskimo Female    119.0  37.117647  13.114991  17.0  27.0  36.0   \n",
       "                   Male      192.0  37.208333  12.049563  17.0  28.0  35.0   \n",
       "Asian-Pac-Islander Female    346.0  35.089595  12.300845  17.0  25.0  33.0   \n",
       "                   Male      693.0  39.073593  12.883944  18.0  29.0  37.0   \n",
       "Black              Female   1555.0  37.854019  12.637197  17.0  28.0  37.0   \n",
       "                   Male     1569.0  37.682600  12.882612  17.0  27.0  36.0   \n",
       "Other              Female    109.0  31.678899  11.631599  17.0  23.0  29.0   \n",
       "                   Male      162.0  34.654321  11.355531  17.0  26.0  32.0   \n",
       "White              Female   8642.0  36.811618  14.329093  17.0  25.0  35.0   \n",
       "                   Male    19174.0  39.652498  13.436029  17.0  29.0  38.0   \n",
       "\n",
       "                             75%   max  \n",
       "race               sex                  \n",
       "Amer-Indian-Eskimo Female  46.00  80.0  \n",
       "                   Male    45.00  82.0  \n",
       "Asian-Pac-Islander Female  43.75  75.0  \n",
       "                   Male    46.00  90.0  \n",
       "Black              Female  46.00  90.0  \n",
       "                   Male    46.00  90.0  \n",
       "Other              Female  39.00  74.0  \n",
       "                   Male    42.00  77.0  \n",
       "White              Female  46.00  90.0  \n",
       "                   Male    49.00  90.0  "
      ]
     },
     "execution_count": 14,
     "metadata": {},
     "output_type": "execute_result"
    }
   ],
   "source": [
    "grp_r_s = df.groupby(['race', 'sex'])\n",
    "grp_r_s['age'].describe()"
   ]
  },
  {
   "cell_type": "code",
   "execution_count": 15,
   "id": "a47b0ddd-278a-43f6-814f-5764e848c4ca",
   "metadata": {
    "tags": []
   },
   "outputs": [
    {
     "name": "stdout",
     "output_type": "stream",
     "text": [
      "The maximum age of men of Amer-Indian-Eskimo race is 82.\n"
     ]
    }
   ],
   "source": [
    "max_age = grp_r_s.get_group(('Amer-Indian-Eskimo', 'Male'))['age'].max()\n",
    "print(f\"The maximum age of men of Amer-Indian-Eskimo race is {round(max_age)}.\")"
   ]
  },
  {
   "cell_type": "raw",
   "id": "7dcb2b9a-4a8e-4c2f-83bb-8726db3a4114",
   "metadata": {},
   "source": []
  },
  {
   "cell_type": "raw",
   "id": "9e70f162-1cfe-4a06-9dfd-90b3c59888cf",
   "metadata": {},
   "source": [
    "8. Among whom is the proportion of those who earn a lot (>50K) greater: married or single men (marital-status feature)?\n",
    "   Consider as married those who have a marital-status starting with Married (Married-civ-spouse, Married-spouse-absent or Married-AF-spouse), the rest are\n",
    "   considered bachelors."
   ]
  },
  {
   "cell_type": "code",
   "execution_count": 16,
   "id": "1706587c-504b-479e-a4f2-61e2f89fc1e2",
   "metadata": {
    "tags": []
   },
   "outputs": [
    {
     "data": {
      "text/plain": [
       "salary\n",
       "<=50K    0.559486\n",
       ">50K     0.440514\n",
       "Name: proportion, dtype: float64"
      ]
     },
     "execution_count": 16,
     "metadata": {},
     "output_type": "execute_result"
    }
   ],
   "source": [
    "# Married men\n",
    "\n",
    "filt = (df['sex'] == 'Male') & (df['marital-status'].str.startswith('Married'))\n",
    "df[filt]['salary'].value_counts(normalize = True)"
   ]
  },
  {
   "cell_type": "code",
   "execution_count": 17,
   "id": "4d291fc8-bbf0-4905-8929-50b021f78585",
   "metadata": {
    "tags": []
   },
   "outputs": [
    {
     "data": {
      "text/plain": [
       "salary\n",
       "<=50K    0.915505\n",
       ">50K     0.084495\n",
       "Name: proportion, dtype: float64"
      ]
     },
     "execution_count": 17,
     "metadata": {},
     "output_type": "execute_result"
    }
   ],
   "source": [
    "# Single men\n",
    "\n",
    "filt = (df['sex'] == 'Male') & ~(df['marital-status'].str.startswith('Married'))\n",
    "df[filt]['salary'].value_counts(normalize = True)"
   ]
  },
  {
   "cell_type": "raw",
   "id": "facb41e5-afa4-4237-8ff7-04874dfc4ccc",
   "metadata": {},
   "source": []
  },
  {
   "cell_type": "raw",
   "id": "63900859-03b6-42ea-9c18-9f507562e9ad",
   "metadata": {},
   "source": [
    "9. What is the maximum number of hours a person works per week (hours-per-week feature)? How many people work such a number of hours and what is the percentage of those who earn a lot among them?"
   ]
  },
  {
   "cell_type": "code",
   "execution_count": 18,
   "id": "e0066e29-f3fc-456e-b3e7-c5f4ddf8abe9",
   "metadata": {
    "tags": []
   },
   "outputs": [
    {
     "name": "stdout",
     "output_type": "stream",
     "text": [
      "Maximum number of hours a person works per week is 99.\n"
     ]
    }
   ],
   "source": [
    "max_load = df['hours-per-week'].max()\n",
    "#df['hours-per-week'].value_counts()\n",
    "print(f\"Maximum number of hours a person works per week is {max_load}.\")"
   ]
  },
  {
   "cell_type": "code",
   "execution_count": 19,
   "id": "8edfc09e-9cae-46ba-88d1-b66b028e4137",
   "metadata": {
    "tags": []
   },
   "outputs": [
    {
     "name": "stdout",
     "output_type": "stream",
     "text": [
      "Number of people that work such a number of hours is 4.\n"
     ]
    }
   ],
   "source": [
    "num_workaholics = df[df['hours-per-week'] == filt].shape[0]\n",
    "print(f\"Number of people that work such a number of hours is {num_workaholics}.\")"
   ]
  },
  {
   "cell_type": "code",
   "execution_count": 20,
   "id": "3527debd-79b1-4c73-9081-8e6484cd164a",
   "metadata": {
    "tags": []
   },
   "outputs": [],
   "source": [
    "filter1 = (df['hours-per-week'] == df['hours-per-week'].max())\n",
    "who_work_for_max_hperw = df.loc[filter1].shape[0]"
   ]
  },
  {
   "cell_type": "code",
   "execution_count": 21,
   "id": "5da5ade2-acf1-44d5-a578-7d6c2a6529f7",
   "metadata": {
    "tags": []
   },
   "outputs": [],
   "source": [
    "filter2 = (df['hours-per-week'] == df['hours-per-week'].max()) & (df['salary'] == '>50K')\n",
    "who_work_for_max_hperw_with_hs = df.loc[filter2].shape[0]"
   ]
  },
  {
   "cell_type": "code",
   "execution_count": 22,
   "id": "b329d679-450a-46f1-88b0-86acd6d5a41e",
   "metadata": {
    "tags": []
   },
   "outputs": [
    {
     "name": "stdout",
     "output_type": "stream",
     "text": [
      "Percentage of people who work for maximum no.of weeks with higher salary is 29%.\n"
     ]
    }
   ],
   "source": [
    "calc = who_work_for_max_hperw_with_hs / who_work_for_max_hperw * 100\n",
    "print(f\"Percentage of people who work for maximum no.of weeks with higher salary is {round(calc)}%.\")"
   ]
  },
  {
   "cell_type": "raw",
   "id": "131f7ae2-569f-40cb-8708-debbfd852d01",
   "metadata": {},
   "source": []
  },
  {
   "cell_type": "raw",
   "id": "db79d7de-e366-4758-858c-17c4c9012d7d",
   "metadata": {
    "tags": []
   },
   "source": [
    "10. Count the average time of work (hours-per-week) for those who earn a little and a lot (salary) for each country (native-country). What will these be for Japan?"
   ]
  },
  {
   "cell_type": "code",
   "execution_count": 23,
   "id": "c46b16a5-8431-4a20-9921-5e27f20264d1",
   "metadata": {
    "tags": []
   },
   "outputs": [
    {
     "data": {
      "text/plain": [
       "native-country  salary\n",
       "?               <=50K     40.164760\n",
       "                >50K      45.547945\n",
       "Cambodia        <=50K     41.416667\n",
       "                >50K      40.000000\n",
       "Canada          <=50K     37.914634\n",
       "                            ...    \n",
       "United-States   >50K      45.505369\n",
       "Vietnam         <=50K     37.193548\n",
       "                >50K      39.200000\n",
       "Yugoslavia      <=50K     41.600000\n",
       "                >50K      49.500000\n",
       "Name: hours-per-week, Length: 82, dtype: float64"
      ]
     },
     "execution_count": 23,
     "metadata": {},
     "output_type": "execute_result"
    }
   ],
   "source": [
    "grp_n_s = df.groupby(['native-country', 'salary'])['hours-per-week'].mean()\n",
    "grp_n_s"
   ]
  },
  {
   "cell_type": "code",
   "execution_count": 24,
   "id": "0826d778-2320-4aba-8595-21776bbf4f41",
   "metadata": {},
   "outputs": [
    {
     "data": {
      "text/plain": [
       "salary\n",
       "<=50K    41.000000\n",
       ">50K     47.958333\n",
       "Name: hours-per-week, dtype: float64"
      ]
     },
     "execution_count": 24,
     "metadata": {},
     "output_type": "execute_result"
    }
   ],
   "source": [
    "grp_n_s['Japan']"
   ]
  },
  {
   "cell_type": "code",
   "execution_count": 25,
   "id": "ac124db7-a95f-480c-97d0-f978e598efd8",
   "metadata": {},
   "outputs": [
    {
     "name": "stdout",
     "output_type": "stream",
     "text": [
      "Average time of work (hours-per-week) for those who earn a little in Japan is 41.0.\n",
      "Average time of work (hours-per-week) for those who earn a lot in Japan is 47.958333333333336.\n"
     ]
    }
   ],
   "source": [
    "print(f\"Average time of work (hours-per-week) for those who earn a little in Japan is {grp_n_s['Japan'][0]}.\")\n",
    "print(f\"Average time of work (hours-per-week) for those who earn a lot in Japan is {grp_n_s['Japan'][1]}.\")"
   ]
  },
  {
   "cell_type": "raw",
   "id": "99bd6f17-a430-4e67-a0f3-7090d98861b8",
   "metadata": {
    "tags": []
   },
   "source": []
  },
  {
   "cell_type": "raw",
   "id": "fad2fc4e-75d1-4454-ac8e-daea270f985f",
   "metadata": {},
   "source": [
    "1. How does the salary distribution differ between different marital statuses?"
   ]
  },
  {
   "cell_type": "code",
   "execution_count": 26,
   "id": "1aa94ef1-8782-4311-a929-65149833adcc",
   "metadata": {
    "tags": []
   },
   "outputs": [
    {
     "name": "stdout",
     "output_type": "stream",
     "text": [
      "sex                   Female       Male      \n",
      "salary                 <=50K >50K <=50K  >50K\n",
      "marital-status                               \n",
      "Divorced                2493  179  1487   284\n",
      "Married-AF-spouse          8    6     5     4\n",
      "Married-civ-spouse       903  754  7381  5938\n",
      "Married-spouse-absent    194   11   190    23\n",
      "Never-married           4601  166  5591   325\n",
      "Separated                614   17   345    49\n",
      "Widowed                  779   46   129    39\n"
     ]
    }
   ],
   "source": [
    "pivot_table_df = df.pivot_table(index='marital-status', columns=['sex', 'salary'], aggfunc='size', fill_value=0)\n",
    "print(pivot_table_df)"
   ]
  },
  {
   "cell_type": "code",
   "execution_count": 33,
   "id": "dd8d4a4d-7d9c-44a6-b5a9-6dff9448327c",
   "metadata": {
    "tags": []
   },
   "outputs": [
    {
     "data": {
      "text/plain": [
       "<Axes: xlabel='sex-salary', ylabel='marital-status'>"
      ]
     },
     "execution_count": 33,
     "metadata": {},
     "output_type": "execute_result"
    },
    {
     "data": {
      "image/png": "[encoded data removed]",
      "text/plain": [
       "<Figure size 1100x500 with 2 Axes>"
      ]
     },
     "metadata": {},
     "output_type": "display_data"
    }
   ],
   "source": [
    "plt.figure(figsize=(11, 5))\n",
    "sns.heatmap(pivot_table_df, cmap=\"GnBu\", annot = True, fmt = \".0f\")"
   ]
  },
  {
   "cell_type": "raw",
   "id": "e096b561-ae7a-4535-b1ba-f31faed1b64f",
   "metadata": {},
   "source": [
    "Heatmap of Marital Status vs Sex and Salary: This heatmap shows the count of records for each combination of marital-status, sex, and salary. The color intensity in the heatmap represents the count of records. Darker colors represent higher counts."
   ]
  },
  {
   "cell_type": "code",
   "execution_count": null,
   "id": "06b60af3-3f63-461e-baaa-e90b0b6a324a",
   "metadata": {},
   "outputs": [],
   "source": []
  },
  {
   "cell_type": "raw",
   "id": "4ced829b-aa6c-41df-95af-91379e99a1fc",
   "metadata": {},
   "source": [
    "2. Create two kdeplots of the hours-per-week feature for each gender on the same chart."
   ]
  },
  {
   "cell_type": "code",
   "execution_count": 36,
   "id": "8f8d7893-9d65-410f-9eba-dccd73ef2d60",
   "metadata": {
    "tags": []
   },
   "outputs": [
    {
     "data": {
      "text/plain": [
       "<Axes: xlabel='hours-per-week', ylabel='Density'>"
      ]
     },
     "execution_count": 36,
     "metadata": {},
     "output_type": "execute_result"
    },
    {
     "data": {
      "image/png": "[encoded data removed]",
      "text/plain": [
       "<Figure size 1000x500 with 1 Axes>"
      ]
     },
     "metadata": {},
     "output_type": "display_data"
    }
   ],
   "source": [
    "plt.figure(figsize=(10, 5))\n",
    "sns.kdeplot(data = df, x=\"hours-per-week\", hue = 'sex', multiple = 'stack', alpha=.7, linewidth = 0.5, palette = 'crest')"
   ]
  },
  {
   "cell_type": "raw",
   "id": "7c994b27-c8c9-4899-8dd7-a7666fc2adb2",
   "metadata": {},
   "source": [
    "KDE Plot of Hours per Week by Sex: This plot shows the distribution of hours-per-week for each sex. The KDE (Kernel Density Estimate) plot is a way to estimate the probability density function of a continuous random variable. It uses a Gaussian kernel to estimate the PDF. In this plot, the sex is differentiated by color."
   ]
  },
  {
   "cell_type": "code",
   "execution_count": null,
   "id": "e38e6154-b511-4c86-9d76-55a60b5a9f34",
   "metadata": {},
   "outputs": [],
   "source": []
  },
  {
   "cell_type": "raw",
   "id": "1df4df77-f18c-46b6-b7a9-84d551e2add0",
   "metadata": {},
   "source": [
    "3. How does the average hours worked per week vary between genders for each salary level?"
   ]
  },
  {
   "cell_type": "code",
   "execution_count": 37,
   "id": "82827536-7ab4-4ed9-8e85-6e21a11e67a7",
   "metadata": {
    "tags": []
   },
   "outputs": [
    {
     "data": {
      "text/plain": [
       "<Axes: xlabel='salary', ylabel='hours-per-week'>"
      ]
     },
     "execution_count": 37,
     "metadata": {},
     "output_type": "execute_result"
    },
    {
     "data": {
      "image/png": "[encoded data removed]",
      "text/plain": [
       "<Figure size 1000x500 with 1 Axes>"
      ]
     },
     "metadata": {},
     "output_type": "display_data"
    }
   ],
   "source": [
    "plt.figure(figsize=(10,5))\n",
    "sns.barplot(data = df, x = 'salary', y = 'hours-per-week', hue = \"sex\", width = 0.6, palette = \"crest\")"
   ]
  },
  {
   "cell_type": "raw",
   "id": "0e324531-86a1-4fc8-ac95-775f66c62ef9",
   "metadata": {},
   "source": [
    "Bar Plot of Salary vs Hours per Week by Sex: This bar plot shows the average hours-per-week for each salary level, differentiated by sex. The height of the bar represents the average hours-per-week."
   ]
  },
  {
   "cell_type": "code",
   "execution_count": null,
   "id": "58d40e40-e63e-495c-9856-67108e4b08f2",
   "metadata": {},
   "outputs": [],
   "source": []
  },
  {
   "cell_type": "code",
   "execution_count": 30,
   "id": "81b757bf-10d4-40c1-ba51-bddf32c60bea",
   "metadata": {},
   "outputs": [
    {
     "name": "stdout",
     "output_type": "stream",
     "text": [
      "Object `week` not found.\n"
     ]
    }
   ],
   "source": [
    "4. How does the count of records vary with different combinations of age and hours worked per week?"
   ]
  },
  {
   "cell_type": "code",
   "execution_count": 38,
   "id": "849d33ec-9be1-4bc7-9a3b-02cbb0c331a0",
   "metadata": {
    "tags": []
   },
   "outputs": [
    {
     "data": {
      "text/plain": [
       "<Axes: xlabel='hours-per-week', ylabel='age'>"
      ]
     },
     "execution_count": 38,
     "metadata": {},
     "output_type": "execute_result"
    },
    {
     "data": {
      "image/png": "[encoded data removed]",
      "text/plain": [
       "<Figure size 1100x500 with 2 Axes>"
      ]
     },
     "metadata": {},
     "output_type": "display_data"
    }
   ],
   "source": [
    "# Define bins for 'age' and 'hours-per-week'\n",
    "plt.figure(figsize=(11,5))\n",
    "bins_age = pd.cut(df['age'], bins=range(0, 100, 10))\n",
    "# bins_age_as_strings = bins_age.astype(str).str.replace(r'[\\(\\]]' , ' ', regex = True).replace(r'[\\,]' , ' -', regex = True)\n",
    "bins_hours_per_week = pd.cut(df['hours-per-week'], bins=range(0, 100, 10))\n",
    "heatmap_data = pd.crosstab(bins_age, bins_hours_per_week)\n",
    "\n",
    "sns.heatmap(heatmap_data, cmap='crest', annot = True, fmt=\".0f\")"
   ]
  },
  {
   "cell_type": "raw",
   "id": "72e4e304-2b1a-423b-975d-02668db561ea",
   "metadata": {},
   "source": [
    "Heatmap of Age vs Hours per Week: This heatmap shows the count of records for each combination of age and hours-per-week bins. The age and hours-per-week are divided into bins of size 10. The color intensity in the heatmap represents the count of records. Darker colors represent higher counts."
   ]
  },
  {
   "cell_type": "code",
   "execution_count": null,
   "id": "1a04cee6-4720-4a1f-8939-c7b3d9bbbbc8",
   "metadata": {},
   "outputs": [],
   "source": []
  },
  {
   "cell_type": "raw",
   "id": "cb874d90-638d-473a-b721-d4fe0662b228",
   "metadata": {},
   "source": [
    "5. How does the proportion of salary levels vary within each education group?"
   ]
  },
  {
   "cell_type": "code",
   "execution_count": 40,
   "id": "1efb690f-2691-4862-bdd9-d79e073cb1e1",
   "metadata": {
    "tags": []
   },
   "outputs": [
    {
     "data": {
      "image/png": "[encoded data removed]",
      "text/plain": [
       "<Figure size 1100x500 with 1 Axes>"
      ]
     },
     "metadata": {},
     "output_type": "display_data"
    }
   ],
   "source": [
    "fig, ax = plt.subplots(figsize=(11, 5))\n",
    "df.groupby(['education'])['salary'].value_counts(normalize=True).unstack().plot(kind='bar', cmap = \"crest\", ax=ax)\n",
    "plt.show()"
   ]
  },
  {
   "cell_type": "raw",
   "id": "71c43b2a-e993-4f95-a6f2-640841830bba",
   "metadata": {},
   "source": [
    "Bar Plot of Education vs Salary: This bar plot shows the proportion of each salary level within each education group. The height of the bar represents the proportion of salary."
   ]
  }
 ],
 "metadata": {
  "kernelspec": {
   "display_name": "Python 3 (ipykernel)",
   "language": "python",
   "name": "python3"
  },
  "language_info": {
   "codemirror_mode": {
    "name": "ipython",
    "version": 3
   },
   "file_extension": ".py",
   "mimetype": "text/x-python",
   "name": "python",
   "nbconvert_exporter": "python",
   "pygments_lexer": "ipython3",
   "version": "3.11.4"
  },
  "toc-autonumbering": true,
  "toc-showcode": true,
  "toc-showmarkdowntxt": false
 },
 "nbformat": 4,
 "nbformat_minor": 5
}
